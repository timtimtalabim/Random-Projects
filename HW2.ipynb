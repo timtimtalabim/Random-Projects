{
 "cells": [
  {
   "cell_type": "markdown",
   "id": "9e8427ce",
   "metadata": {},
   "source": [
    "# Iter 1"
   ]
  },
  {
   "cell_type": "code",
   "execution_count": 73,
   "id": "8aff2b31",
   "metadata": {},
   "outputs": [
    {
     "name": "stdout",
     "output_type": "stream",
     "text": [
      "     pixel0  pixel1  pixel2  pixel3  pixel4  pixel5  pixel6  pixel7  pixel8  \\\n",
      "0         0       0       0       0       0       0       0       0       0   \n",
      "1         0       0       0       0       0       0       0       0       0   \n",
      "2         0       0       0       0       0       0       0       0       0   \n",
      "3         0       0       0       0       0       0       0       0       0   \n",
      "4         0       0       0       0       0       0       0       0       0   \n",
      "..      ...     ...     ...     ...     ...     ...     ...     ...     ...   \n",
      "944       0       0       0       0       0       0       0       0       0   \n",
      "945       0       0       0       0       0       0       0       0       0   \n",
      "946       0       0       0       0       0       0       0       0       0   \n",
      "947       0       0       0       0       0       0       0       0       0   \n",
      "948       0       0       0       0       0       0       0       0       0   \n",
      "\n",
      "     pixel9  ...  pixel774  pixel775  pixel776  pixel777  pixel778  pixel779  \\\n",
      "0         0  ...         0         0         0         0         0         0   \n",
      "1         0  ...         0         0         0         0         0         0   \n",
      "2         0  ...         0         0         0         0         0         0   \n",
      "3         0  ...         0         0         0         0         0         0   \n",
      "4         0  ...         0         0         0         0         0         0   \n",
      "..      ...  ...       ...       ...       ...       ...       ...       ...   \n",
      "944       0  ...         0         0         0         0         0         0   \n",
      "945       0  ...         0         0         0         0         0         0   \n",
      "946       0  ...         0         0         0         0         0         0   \n",
      "947       0  ...         0         0         0         0         0         0   \n",
      "948       0  ...         0         0         0         0         0         0   \n",
      "\n",
      "     pixel780  pixel781  pixel782  pixel783  \n",
      "0           0         0         0         0  \n",
      "1           0         0         0         0  \n",
      "2           0         0         0         0  \n",
      "3           0         0         0         0  \n",
      "4           0         0         0         0  \n",
      "..        ...       ...       ...       ...  \n",
      "944         0         0         0         0  \n",
      "945         0         0         0         0  \n",
      "946         0         0         0         0  \n",
      "947         0         0         0         0  \n",
      "948         0         0         0         0  \n",
      "\n",
      "[949 rows x 784 columns]\n",
      "    pixel0  pixel1  pixel2  pixel3  pixel4  pixel5  pixel6  pixel7  pixel8  \\\n",
      "0        0       0       0       0       0       0       0       0       0   \n",
      "1        0       0       0       0       0       0       0       0       0   \n",
      "2        0       0       0       0       0       0       0       0       0   \n",
      "3        0       0       0       0       0       0       0       0       0   \n",
      "4        0       0       0       0       0       0       0       0       0   \n",
      "5        0       0       0       0       0       0       0       0       0   \n",
      "6        0       0       0       0       0       0       0       0       0   \n",
      "7        0       0       0       0       0       0       0       0       0   \n",
      "8        0       0       0       0       0       0       0       0       0   \n",
      "9        0       0       0       0       0       0       0       0       0   \n",
      "10       0       0       0       0       0       0       0       0       0   \n",
      "11       0       0       0       0       0       0       0       0       0   \n",
      "12       0       0       0       0       0       0       0       0       0   \n",
      "13       0       0       0       0       0       0       0       0       0   \n",
      "14       0       0       0       0       0       0       0       0       0   \n",
      "15       0       0       0       0       0       0       0       0       0   \n",
      "16       0       0       0       0       0       0       0       0       0   \n",
      "17       0       0       0       0       0       0       0       0       0   \n",
      "18       0       0       0       0       0       0       0       0       0   \n",
      "19       0       0       0       0       0       0       0       0       0   \n",
      "20       0       0       0       0       0       0       0       0       0   \n",
      "21       0       0       0       0       0       0       0       0       0   \n",
      "22       0       0       0       0       0       0       0       0       0   \n",
      "23       0       0       0       0       0       0       0       0       0   \n",
      "24       0       0       0       0       0       0       0       0       0   \n",
      "25       0       0       0       0       0       0       0       0       0   \n",
      "26       0       0       0       0       0       0       0       0       0   \n",
      "27       0       0       0       0       0       0       0       0       0   \n",
      "28       0       0       0       0       0       0       0       0       0   \n",
      "29       0       0       0       0       0       0       0       0       0   \n",
      "30       0       0       0       0       0       0       0       0       0   \n",
      "31       0       0       0       0       0       0       0       0       0   \n",
      "32       0       0       0       0       0       0       0       0       0   \n",
      "33       0       0       0       0       0       0       0       0       0   \n",
      "34       0       0       0       0       0       0       0       0       0   \n",
      "35       0       0       0       0       0       0       0       0       0   \n",
      "36       0       0       0       0       0       0       0       0       0   \n",
      "37       0       0       0       0       0       0       0       0       0   \n",
      "38       0       0       0       0       0       0       0       0       0   \n",
      "39       0       0       0       0       0       0       0       0       0   \n",
      "40       0       0       0       0       0       0       0       0       0   \n",
      "41       0       0       0       0       0       0       0       0       0   \n",
      "42       0       0       0       0       0       0       0       0       0   \n",
      "43       0       0       0       0       0       0       0       0       0   \n",
      "44       0       0       0       0       0       0       0       0       0   \n",
      "45       0       0       0       0       0       0       0       0       0   \n",
      "46       0       0       0       0       0       0       0       0       0   \n",
      "47       0       0       0       0       0       0       0       0       0   \n",
      "48       0       0       0       0       0       0       0       0       0   \n",
      "49       0       0       0       0       0       0       0       0       0   \n",
      "\n",
      "    pixel9  ...  pixel774  pixel775  pixel776  pixel777  pixel778  pixel779  \\\n",
      "0        0  ...         0         0         0         0         0         0   \n",
      "1        0  ...         0         0         0         0         0         0   \n",
      "2        0  ...         0         0         0         0         0         0   \n",
      "3        0  ...         0         0         0         0         0         0   \n",
      "4        0  ...         0         0         0         0         0         0   \n",
      "5        0  ...         0         0         0         0         0         0   \n",
      "6        0  ...         0         0         0         0         0         0   \n",
      "7        0  ...         0         0         0         0         0         0   \n",
      "8        0  ...         0         0         0         0         0         0   \n",
      "9        0  ...         0         0         0         0         0         0   \n",
      "10       0  ...         0         0         0         0         0         0   \n",
      "11       0  ...         0         0         0         0         0         0   \n",
      "12       0  ...         0         0         0         0         0         0   \n",
      "13       0  ...         0         0         0         0         0         0   \n",
      "14       0  ...         0         0         0         0         0         0   \n",
      "15       0  ...         0         0         0         0         0         0   \n",
      "16       0  ...         0         0         0         0         0         0   \n",
      "17       0  ...         0         0         0         0         0         0   \n",
      "18       0  ...         0         0         0         0         0         0   \n",
      "19       0  ...         0         0         0         0         0         0   \n",
      "20       0  ...         0         0         0         0         0         0   \n",
      "21       0  ...         0         0         0         0         0         0   \n",
      "22       0  ...         0         0         0         0         0         0   \n",
      "23       0  ...         0         0         0         0         0         0   \n",
      "24       0  ...         0         0         0         0         0         0   \n",
      "25       0  ...         0         0         0         0         0         0   \n",
      "26       0  ...         0         0         0         0         0         0   \n",
      "27       0  ...         0         0         0         0         0         0   \n",
      "28       0  ...         0         0         0         0         0         0   \n",
      "29       0  ...         0         0         0         0         0         0   \n",
      "30       0  ...         0         0         0         0         0         0   \n",
      "31       0  ...         0         0         0         0         0         0   \n",
      "32       0  ...         0         0         0         0         0         0   \n",
      "33       0  ...         0         0         0         0         0         0   \n",
      "34       0  ...         0         0         0         0         0         0   \n",
      "35       0  ...         0         0         0         0         0         0   \n",
      "36       0  ...         0         0         0         0         0         0   \n",
      "37       0  ...         0         0         0         0         0         0   \n",
      "38       0  ...         0         0         0         0         0         0   \n",
      "39       0  ...         0         0         0         0         0         0   \n",
      "40       0  ...         0         0         0         0         0         0   \n",
      "41       0  ...         0         0         0         0         0         0   \n",
      "42       0  ...         0         0         0         0         0         0   \n",
      "43       0  ...         0         0         0         0         0         0   \n",
      "44       0  ...         0         0         0         0         0         0   \n",
      "45       0  ...         0         0         0         0         0         0   \n",
      "46       0  ...         0         0         0         0         0         0   \n",
      "47       0  ...         0         0         0         0         0         0   \n",
      "48       0  ...         0         0         0         0         0         0   \n",
      "49       0  ...         0         0         0         0         0         0   \n",
      "\n",
      "    pixel780  pixel781  pixel782  pixel783  \n",
      "0          0         0         0         0  \n",
      "1          0         0         0         0  \n",
      "2          0         0         0         0  \n",
      "3          0         0         0         0  \n",
      "4          0         0         0         0  \n",
      "5          0         0         0         0  \n",
      "6          0         0         0         0  \n",
      "7          0         0         0         0  \n",
      "8          0         0         0         0  \n",
      "9          0         0         0         0  \n",
      "10         0         0         0         0  \n",
      "11         0         0         0         0  \n",
      "12         0         0         0         0  \n",
      "13         0         0         0         0  \n",
      "14         0         0         0         0  \n",
      "15         0         0         0         0  \n",
      "16         0         0         0         0  \n",
      "17         0         0         0         0  \n",
      "18         0         0         0         0  \n",
      "19         0         0         0         0  \n",
      "20         0         0         0         0  \n",
      "21         0         0         0         0  \n",
      "22         0         0         0         0  \n",
      "23         0         0         0         0  \n",
      "24         0         0         0         0  \n",
      "25         0         0         0         0  \n",
      "26         0         0         0         0  \n",
      "27         0         0         0         0  \n",
      "28         0         0         0         0  \n",
      "29         0         0         0         0  \n",
      "30         0         0         0         0  \n",
      "31         0         0         0         0  \n",
      "32         0         0         0         0  \n",
      "33         0         0         0         0  \n",
      "34         0         0         0         0  \n",
      "35         0         0         0         0  \n",
      "36         0         0         0         0  \n",
      "37         0         0         0         0  \n",
      "38         0         0         0         0  \n",
      "39         0         0         0         0  \n",
      "40         0         0         0         0  \n",
      "41         0         0         0         0  \n",
      "42         0         0         0         0  \n",
      "43         0         0         0         0  \n",
      "44         0         0         0         0  \n",
      "45         0         0         0         0  \n",
      "46         0         0         0         0  \n",
      "47         0         0         0         0  \n",
      "48         0         0         0         0  \n",
      "49         0         0         0         0  \n",
      "\n",
      "[50 rows x 784 columns]\n",
      "[[ 917.05768343 1104.96051501 2054.56154858 ... 2349.24363055\n",
      "  2459.45440064 2074.31447659]\n",
      " [1147.8394606  1381.54570683 2336.7886339  ... 2615.05715327\n",
      "  2733.22904736 2330.03248448]\n",
      " [1638.31515359  761.71309558  927.88147624 ...  538.40925634\n",
      "   714.39272282  273.38322421]\n",
      " ...\n",
      " [2416.37729774 1714.9662816  1079.41352239 ...  536.96837526\n",
      "   359.44032891  891.14998273]\n",
      " [1970.44428908 1276.04416304  696.88282943 ...  332.28100315\n",
      "   120.9602145   617.20428413]\n",
      " [2519.910893   1690.02801975 1376.0589067  ...  456.46436729\n",
      "   566.959268    677.75914635]]\n",
      "0      0\n",
      "1      0\n",
      "2      0\n",
      "3      0\n",
      "4      0\n",
      "      ..\n",
      "944    9\n",
      "945    9\n",
      "946    9\n",
      "947    9\n",
      "948    9\n",
      "Name: label, Length: 949, dtype: int64\n",
      "0.28\n"
     ]
    },
    {
     "data": {
      "text/plain": [
       "\"\\nfor i in range(2,10):\\n    for j in range(1, 10):\\n        print(f'p = {i}, k = {j}')\\n        print(KNN(i, j))\\n\""
      ]
     },
     "execution_count": 73,
     "metadata": {},
     "output_type": "execute_result"
    }
   ],
   "source": [
    "from sklearn.decomposition import PCA\n",
    "from sklearn.preprocessing import normalize\n",
    "from sklearn.metrics import DistanceMetric\n",
    "from scipy.spatial import distance\n",
    "from scipy import stats\n",
    "import numpy as np\n",
    "import pandas as pd\n",
    "import matplotlib.pyplot as plt\n",
    "\n",
    "train_data = pd.read_csv('MNIST_training.csv')\n",
    "test_data = pd.read_csv('MNIST_test.csv')\n",
    "\n",
    "def PCAify(data, n):\n",
    "    y = data.iloc[:, 0]\n",
    "    x = data.drop('label', axis = 1)\n",
    "    print(x)\n",
    "    pca = PCA(n_components = n)\n",
    "    pca.fit(x)\n",
    "    PCAX = pca.transform(x)\n",
    "    #for i in PCAX[:]:\n",
    "    #    i = i/np.linalg.norm(i)\n",
    "    #PCAX[:,0] = PCAX[:,0]/np.linalg.norm(PCAX[:,0])\n",
    "    return y, PCAX\n",
    "\n",
    "def labeler(train_label, train_data, test_data, K):\n",
    "    #distances = np.array(np.dot(train_data[:], test_data)/(np.sum(np.square(test_data))*np.sum(np.square(train_data[:]))))\n",
    "    #distances = np.array((np.abs(train_data[:,0] - test_data[0])**r+np.abs(train_data[:,1] - test_data[0])**r)**(1/r))\n",
    "    #distances = np.array((train_data[:,0]*test_data[0]+train_data[:,1]*test_data[1]) /\n",
    "    #                    (np.sqrt(np.sum(np.square(test_data)))*(np.sqrt(np.square(train_data[:,0])+np.square(train_data[:,1])))))\n",
    "    distances = np.array([distance.euclidean(i, test_data) for i in train_data])\n",
    "    #print(np.argsort(distances)[0:K])\n",
    "    #bruh = np.sum(train_data[:]+test_data, axis = 1)\n",
    "    #bruh_actual = train_data[0,0]+test_data[0], train_data[0,1]+test_data[1]\n",
    "    #smuh = np.sum(bruh_actual)\n",
    "    #print(bruh[0], smuh)\n",
    "    dist_test = np.sort(distances)\n",
    "    print(distances)\n",
    "    #print(dist_test[0:K])\n",
    "    #print(train_label[np.argsort(distances)[0:K]])\n",
    "    #print(distances[np.argsort(distances)[0:K]])\n",
    "    label, count = stats.mode(train_label[np.argsort(distances)[0:K]])\n",
    "    #print(distances)\n",
    "    return label[0]\n",
    "\n",
    "def labeler2(train_label, test_label, train_data, test_data, K):\n",
    "    table = np.append(train_data, test_data, axis = 0)\n",
    "    dist = DistanceMetric.get_metric('euclidean')\n",
    "    dist_table = np.array(dist.pairwise(table))\n",
    "    dist_table = np.delete(dist_table, range(len(train_data),len(train_data)+len(test_data)), axis = 1)\n",
    "    print(dist_table[949:999])\n",
    "    #print(dist_table)\n",
    "    labels = []\n",
    "    #print(np.argsort(dist_table[950], axis = 0))\n",
    "    for i in range(0,50):\n",
    "        label, count = stats.mode(train_label[np.argsort(dist_table[i+len(train_label)])[0:K]])\n",
    "        labels.append(label[0])\n",
    "                                       \n",
    "    #print(labels)\n",
    "    print(train_label)\n",
    "    \n",
    "    accuracy = float(sum([i==j for i, j in zip(labels, test_label)])/len(labels))\n",
    "    print(accuracy)\n",
    "    \n",
    "\n",
    "y_train, pca_train = PCAify(train_data, 2)\n",
    "y_test, pca_test = PCAify(test_data, 2)\n",
    "#print(y_test, pca_test)\n",
    "\n",
    "#for i in range(2, 50):\n",
    "labeler2(y_train, y_test, pca_train, pca_test, 30)\n",
    "\n",
    "colors = [\"blue\", 'orange', 'green', 'red', 'purple', 'brown', 'pink', 'gray', 'olive', 'cyan']\n",
    "colors = ['tab:' + i for i in colors]\n",
    "def acc_table(K, y_train, pca_train, pca_test):\n",
    "    labels = [labeler(y_train, pca_train, pca_test[i], K) for i in range(len(pca_test))]\n",
    "    accuracy = float(sum([i==j for i, j in zip(labels, y_test)])/len(labels))\n",
    "    return accuracy\n",
    "\n",
    "def plot(labels):\n",
    "    plt.figure(figsize=(5,5), dpi = 200)\n",
    "    plt.plot(pca_train[:, 0], pca_train[:, 1], 'wo')\n",
    "\n",
    "    # For loop that plots out individual points for the numbered data using PCA\n",
    "    for i in range(len(y_train)):\n",
    "        plt.text(pca_train[i:i+1, 0], pca_train[i:i+1, 1], y_train[i], color = colors[int(i/100)])\n",
    "    for i in range(len(y_test)):\n",
    "        plt.text(pca_test[i:i+1, 0], pca_test[i:i+1, 1], str(y_test[i])+str(labels[i]), color = 'black')\n",
    "    # Shows the plot\n",
    "    plt.show()\n",
    "    \n",
    "def KNN(p, k):\n",
    "    train_data = pd.read_csv('MNIST_training.csv')\n",
    "    test_data = pd.read_csv('MNIST_test.csv')\n",
    "    \n",
    "    y_train, pca_train = PCAify(train_data, p)\n",
    "    y_test, pca_test = PCAify(test_data, p)\n",
    "    \n",
    "    acc = acc_table(k, y_train, pca_train, pca_test)\n",
    "    \n",
    "    return acc\n",
    "'''\n",
    "for i in range(2,10):\n",
    "    for j in range(1, 10):\n",
    "        print(f'p = {i}, k = {j}')\n",
    "        print(KNN(i, j))\n",
    "'''\n",
    "\n",
    "#KNN(2, 5)"
   ]
  },
  {
   "cell_type": "markdown",
   "id": "87ff2cc0",
   "metadata": {},
   "source": [
    "# Iter 2 and Testing"
   ]
  },
  {
   "cell_type": "code",
   "execution_count": 155,
   "id": "7d3c8a46",
   "metadata": {},
   "outputs": [
    {
     "name": "stderr",
     "output_type": "stream",
     "text": [
      "/tmp/ipykernel_3373/643707083.py:75: RuntimeWarning: invalid value encountered in power\n",
      "  distances = np.array(np.sum(abs(train_data[:]-i)**r, axis=1)**(1/r))\n"
     ]
    },
    {
     "name": "stdout",
     "output_type": "stream",
     "text": [
      "k: 2 0.8 0.8 0.8 0.84 0.86\n"
     ]
    },
    {
     "name": "stderr",
     "output_type": "stream",
     "text": [
      "/tmp/ipykernel_3373/643707083.py:75: RuntimeWarning: invalid value encountered in power\n",
      "  distances = np.array(np.sum(abs(train_data[:]-i)**r, axis=1)**(1/r))\n"
     ]
    },
    {
     "name": "stdout",
     "output_type": "stream",
     "text": [
      "k: 3 0.88 0.88 0.88 0.86 0.9\n"
     ]
    },
    {
     "name": "stderr",
     "output_type": "stream",
     "text": [
      "/tmp/ipykernel_3373/643707083.py:75: RuntimeWarning: invalid value encountered in power\n",
      "  distances = np.array(np.sum(abs(train_data[:]-i)**r, axis=1)**(1/r))\n"
     ]
    },
    {
     "name": "stdout",
     "output_type": "stream",
     "text": [
      "k: 4 0.86 0.86 0.86 0.84 0.9\n"
     ]
    },
    {
     "name": "stderr",
     "output_type": "stream",
     "text": [
      "/tmp/ipykernel_3373/643707083.py:75: RuntimeWarning: invalid value encountered in power\n",
      "  distances = np.array(np.sum(abs(train_data[:]-i)**r, axis=1)**(1/r))\n"
     ]
    },
    {
     "name": "stdout",
     "output_type": "stream",
     "text": [
      "k: 5 0.86 0.86 0.86 0.88 0.88\n"
     ]
    },
    {
     "name": "stderr",
     "output_type": "stream",
     "text": [
      "/tmp/ipykernel_3373/643707083.py:75: RuntimeWarning: invalid value encountered in power\n",
      "  distances = np.array(np.sum(abs(train_data[:]-i)**r, axis=1)**(1/r))\n"
     ]
    },
    {
     "name": "stdout",
     "output_type": "stream",
     "text": [
      "k: 6 0.86 0.86 0.86 0.88 0.88\n"
     ]
    },
    {
     "name": "stderr",
     "output_type": "stream",
     "text": [
      "/tmp/ipykernel_3373/643707083.py:75: RuntimeWarning: invalid value encountered in power\n",
      "  distances = np.array(np.sum(abs(train_data[:]-i)**r, axis=1)**(1/r))\n"
     ]
    },
    {
     "name": "stdout",
     "output_type": "stream",
     "text": [
      "k: 7 0.9 0.9 0.9 0.88 0.92\n"
     ]
    },
    {
     "name": "stderr",
     "output_type": "stream",
     "text": [
      "/tmp/ipykernel_3373/643707083.py:75: RuntimeWarning: invalid value encountered in power\n",
      "  distances = np.array(np.sum(abs(train_data[:]-i)**r, axis=1)**(1/r))\n"
     ]
    },
    {
     "name": "stdout",
     "output_type": "stream",
     "text": [
      "k: 8 0.88 0.88 0.88 0.92 0.9\n"
     ]
    },
    {
     "name": "stderr",
     "output_type": "stream",
     "text": [
      "/tmp/ipykernel_3373/643707083.py:75: RuntimeWarning: invalid value encountered in power\n",
      "  distances = np.array(np.sum(abs(train_data[:]-i)**r, axis=1)**(1/r))\n"
     ]
    },
    {
     "name": "stdout",
     "output_type": "stream",
     "text": [
      "k: 9 0.9 0.9 0.9 0.92 0.9\n"
     ]
    },
    {
     "name": "stderr",
     "output_type": "stream",
     "text": [
      "/tmp/ipykernel_3373/643707083.py:75: RuntimeWarning: invalid value encountered in power\n",
      "  distances = np.array(np.sum(abs(train_data[:]-i)**r, axis=1)**(1/r))\n"
     ]
    },
    {
     "name": "stdout",
     "output_type": "stream",
     "text": [
      "k: 10 0.86 0.86 0.86 0.88 0.88\n"
     ]
    },
    {
     "name": "stderr",
     "output_type": "stream",
     "text": [
      "/tmp/ipykernel_3373/643707083.py:75: RuntimeWarning: invalid value encountered in power\n",
      "  distances = np.array(np.sum(abs(train_data[:]-i)**r, axis=1)**(1/r))\n"
     ]
    },
    {
     "name": "stdout",
     "output_type": "stream",
     "text": [
      "k: 11 0.84 0.84 0.84 0.88 0.88\n"
     ]
    },
    {
     "name": "stderr",
     "output_type": "stream",
     "text": [
      "/tmp/ipykernel_3373/643707083.py:75: RuntimeWarning: invalid value encountered in power\n",
      "  distances = np.array(np.sum(abs(train_data[:]-i)**r, axis=1)**(1/r))\n"
     ]
    },
    {
     "name": "stdout",
     "output_type": "stream",
     "text": [
      "k: 12 0.84 0.84 0.84 0.9 0.88\n"
     ]
    },
    {
     "name": "stderr",
     "output_type": "stream",
     "text": [
      "/tmp/ipykernel_3373/643707083.py:75: RuntimeWarning: invalid value encountered in power\n",
      "  distances = np.array(np.sum(abs(train_data[:]-i)**r, axis=1)**(1/r))\n"
     ]
    },
    {
     "name": "stdout",
     "output_type": "stream",
     "text": [
      "k: 13 0.82 0.82 0.82 0.88 0.88\n"
     ]
    },
    {
     "name": "stderr",
     "output_type": "stream",
     "text": [
      "/tmp/ipykernel_3373/643707083.py:75: RuntimeWarning: invalid value encountered in power\n",
      "  distances = np.array(np.sum(abs(train_data[:]-i)**r, axis=1)**(1/r))\n"
     ]
    },
    {
     "name": "stdout",
     "output_type": "stream",
     "text": [
      "k: 14 0.82 0.82 0.82 0.9 0.88\n"
     ]
    },
    {
     "name": "stderr",
     "output_type": "stream",
     "text": [
      "/tmp/ipykernel_3373/643707083.py:75: RuntimeWarning: invalid value encountered in power\n",
      "  distances = np.array(np.sum(abs(train_data[:]-i)**r, axis=1)**(1/r))\n"
     ]
    },
    {
     "name": "stdout",
     "output_type": "stream",
     "text": [
      "k: 15 0.82 0.82 0.82 0.88 0.88\n"
     ]
    },
    {
     "name": "stderr",
     "output_type": "stream",
     "text": [
      "/tmp/ipykernel_3373/643707083.py:75: RuntimeWarning: invalid value encountered in power\n",
      "  distances = np.array(np.sum(abs(train_data[:]-i)**r, axis=1)**(1/r))\n"
     ]
    },
    {
     "name": "stdout",
     "output_type": "stream",
     "text": [
      "k: 16 0.82 0.82 0.82 0.9 0.86\n"
     ]
    },
    {
     "name": "stderr",
     "output_type": "stream",
     "text": [
      "/tmp/ipykernel_3373/643707083.py:75: RuntimeWarning: invalid value encountered in power\n",
      "  distances = np.array(np.sum(abs(train_data[:]-i)**r, axis=1)**(1/r))\n"
     ]
    },
    {
     "name": "stdout",
     "output_type": "stream",
     "text": [
      "k: 17 0.82 0.82 0.82 0.84 0.86\n"
     ]
    },
    {
     "name": "stderr",
     "output_type": "stream",
     "text": [
      "/tmp/ipykernel_3373/643707083.py:75: RuntimeWarning: invalid value encountered in power\n",
      "  distances = np.array(np.sum(abs(train_data[:]-i)**r, axis=1)**(1/r))\n"
     ]
    },
    {
     "name": "stdout",
     "output_type": "stream",
     "text": [
      "k: 18 0.82 0.82 0.82 0.84 0.86\n"
     ]
    },
    {
     "name": "stderr",
     "output_type": "stream",
     "text": [
      "/tmp/ipykernel_3373/643707083.py:75: RuntimeWarning: invalid value encountered in power\n",
      "  distances = np.array(np.sum(abs(train_data[:]-i)**r, axis=1)**(1/r))\n"
     ]
    },
    {
     "name": "stdout",
     "output_type": "stream",
     "text": [
      "k: 19 0.82 0.82 0.82 0.84 0.86\n"
     ]
    },
    {
     "name": "stderr",
     "output_type": "stream",
     "text": [
      "/tmp/ipykernel_3373/643707083.py:75: RuntimeWarning: invalid value encountered in power\n",
      "  distances = np.array(np.sum(abs(train_data[:]-i)**r, axis=1)**(1/r))\n"
     ]
    },
    {
     "name": "stdout",
     "output_type": "stream",
     "text": [
      "k: 20 0.84 0.84 0.84 0.84 0.84\n"
     ]
    },
    {
     "name": "stderr",
     "output_type": "stream",
     "text": [
      "/tmp/ipykernel_3373/643707083.py:75: RuntimeWarning: invalid value encountered in power\n",
      "  distances = np.array(np.sum(abs(train_data[:]-i)**r, axis=1)**(1/r))\n"
     ]
    },
    {
     "name": "stdout",
     "output_type": "stream",
     "text": [
      "k: 21 0.82 0.82 0.82 0.84 0.84\n"
     ]
    },
    {
     "name": "stderr",
     "output_type": "stream",
     "text": [
      "/tmp/ipykernel_3373/643707083.py:75: RuntimeWarning: invalid value encountered in power\n",
      "  distances = np.array(np.sum(abs(train_data[:]-i)**r, axis=1)**(1/r))\n"
     ]
    },
    {
     "name": "stdout",
     "output_type": "stream",
     "text": [
      "k: 22 0.84 0.84 0.84 0.84 0.84\n"
     ]
    },
    {
     "name": "stderr",
     "output_type": "stream",
     "text": [
      "/tmp/ipykernel_3373/643707083.py:75: RuntimeWarning: invalid value encountered in power\n",
      "  distances = np.array(np.sum(abs(train_data[:]-i)**r, axis=1)**(1/r))\n"
     ]
    },
    {
     "name": "stdout",
     "output_type": "stream",
     "text": [
      "k: 23 0.82 0.82 0.82 0.84 0.84\n"
     ]
    },
    {
     "name": "stderr",
     "output_type": "stream",
     "text": [
      "/tmp/ipykernel_3373/643707083.py:75: RuntimeWarning: invalid value encountered in power\n",
      "  distances = np.array(np.sum(abs(train_data[:]-i)**r, axis=1)**(1/r))\n"
     ]
    },
    {
     "name": "stdout",
     "output_type": "stream",
     "text": [
      "k: 24 0.8 0.8 0.8 0.84 0.84\n"
     ]
    },
    {
     "name": "stderr",
     "output_type": "stream",
     "text": [
      "/tmp/ipykernel_3373/643707083.py:75: RuntimeWarning: invalid value encountered in power\n",
      "  distances = np.array(np.sum(abs(train_data[:]-i)**r, axis=1)**(1/r))\n"
     ]
    },
    {
     "name": "stdout",
     "output_type": "stream",
     "text": [
      "k: 25 0.8 0.8 0.8 0.84 0.84\n"
     ]
    },
    {
     "name": "stderr",
     "output_type": "stream",
     "text": [
      "/tmp/ipykernel_3373/643707083.py:75: RuntimeWarning: invalid value encountered in power\n",
      "  distances = np.array(np.sum(abs(train_data[:]-i)**r, axis=1)**(1/r))\n"
     ]
    },
    {
     "name": "stdout",
     "output_type": "stream",
     "text": [
      "k: 26 0.8 0.8 0.8 0.82 0.84\n"
     ]
    },
    {
     "name": "stderr",
     "output_type": "stream",
     "text": [
      "/tmp/ipykernel_3373/643707083.py:75: RuntimeWarning: invalid value encountered in power\n",
      "  distances = np.array(np.sum(abs(train_data[:]-i)**r, axis=1)**(1/r))\n"
     ]
    },
    {
     "name": "stdout",
     "output_type": "stream",
     "text": [
      "k: 27 0.82 0.82 0.82 0.84 0.84\n"
     ]
    },
    {
     "name": "stderr",
     "output_type": "stream",
     "text": [
      "/tmp/ipykernel_3373/643707083.py:75: RuntimeWarning: invalid value encountered in power\n",
      "  distances = np.array(np.sum(abs(train_data[:]-i)**r, axis=1)**(1/r))\n"
     ]
    },
    {
     "name": "stdout",
     "output_type": "stream",
     "text": [
      "k: 28 0.76 0.76 0.76 0.82 0.84\n"
     ]
    },
    {
     "name": "stderr",
     "output_type": "stream",
     "text": [
      "/tmp/ipykernel_3373/643707083.py:75: RuntimeWarning: invalid value encountered in power\n",
      "  distances = np.array(np.sum(abs(train_data[:]-i)**r, axis=1)**(1/r))\n"
     ]
    },
    {
     "name": "stdout",
     "output_type": "stream",
     "text": [
      "k: 29 0.8 0.8 0.8 0.84 0.82\n"
     ]
    },
    {
     "name": "stderr",
     "output_type": "stream",
     "text": [
      "/tmp/ipykernel_3373/643707083.py:75: RuntimeWarning: invalid value encountered in power\n",
      "  distances = np.array(np.sum(abs(train_data[:]-i)**r, axis=1)**(1/r))\n"
     ]
    },
    {
     "name": "stdout",
     "output_type": "stream",
     "text": [
      "k: 30 0.78 0.78 0.78 0.84 0.82\n"
     ]
    },
    {
     "name": "stderr",
     "output_type": "stream",
     "text": [
      "/tmp/ipykernel_3373/643707083.py:75: RuntimeWarning: invalid value encountered in power\n",
      "  distances = np.array(np.sum(abs(train_data[:]-i)**r, axis=1)**(1/r))\n"
     ]
    },
    {
     "name": "stdout",
     "output_type": "stream",
     "text": [
      "k: 31 0.78 0.78 0.78 0.84 0.8\n"
     ]
    },
    {
     "name": "stderr",
     "output_type": "stream",
     "text": [
      "/tmp/ipykernel_3373/643707083.py:75: RuntimeWarning: invalid value encountered in power\n",
      "  distances = np.array(np.sum(abs(train_data[:]-i)**r, axis=1)**(1/r))\n"
     ]
    },
    {
     "name": "stdout",
     "output_type": "stream",
     "text": [
      "k: 32 0.78 0.78 0.78 0.84 0.82\n"
     ]
    },
    {
     "name": "stderr",
     "output_type": "stream",
     "text": [
      "/tmp/ipykernel_3373/643707083.py:75: RuntimeWarning: invalid value encountered in power\n",
      "  distances = np.array(np.sum(abs(train_data[:]-i)**r, axis=1)**(1/r))\n"
     ]
    },
    {
     "name": "stdout",
     "output_type": "stream",
     "text": [
      "k: 33 0.74 0.74 0.74 0.84 0.82\n"
     ]
    },
    {
     "name": "stderr",
     "output_type": "stream",
     "text": [
      "/tmp/ipykernel_3373/643707083.py:75: RuntimeWarning: invalid value encountered in power\n",
      "  distances = np.array(np.sum(abs(train_data[:]-i)**r, axis=1)**(1/r))\n"
     ]
    },
    {
     "name": "stdout",
     "output_type": "stream",
     "text": [
      "k: 34 0.76 0.76 0.76 0.84 0.82\n"
     ]
    },
    {
     "name": "stderr",
     "output_type": "stream",
     "text": [
      "/tmp/ipykernel_3373/643707083.py:75: RuntimeWarning: invalid value encountered in power\n",
      "  distances = np.array(np.sum(abs(train_data[:]-i)**r, axis=1)**(1/r))\n"
     ]
    },
    {
     "name": "stdout",
     "output_type": "stream",
     "text": [
      "k: 35 0.72 0.72 0.72 0.82 0.82\n"
     ]
    },
    {
     "name": "stderr",
     "output_type": "stream",
     "text": [
      "/tmp/ipykernel_3373/643707083.py:75: RuntimeWarning: invalid value encountered in power\n",
      "  distances = np.array(np.sum(abs(train_data[:]-i)**r, axis=1)**(1/r))\n"
     ]
    },
    {
     "name": "stdout",
     "output_type": "stream",
     "text": [
      "k: 36 0.72 0.72 0.72 0.84 0.82\n"
     ]
    },
    {
     "name": "stderr",
     "output_type": "stream",
     "text": [
      "/tmp/ipykernel_3373/643707083.py:75: RuntimeWarning: invalid value encountered in power\n",
      "  distances = np.array(np.sum(abs(train_data[:]-i)**r, axis=1)**(1/r))\n"
     ]
    },
    {
     "name": "stdout",
     "output_type": "stream",
     "text": [
      "k: 37 0.72 0.72 0.72 0.84 0.82\n"
     ]
    },
    {
     "name": "stderr",
     "output_type": "stream",
     "text": [
      "/tmp/ipykernel_3373/643707083.py:75: RuntimeWarning: invalid value encountered in power\n",
      "  distances = np.array(np.sum(abs(train_data[:]-i)**r, axis=1)**(1/r))\n"
     ]
    },
    {
     "name": "stdout",
     "output_type": "stream",
     "text": [
      "k: 38 0.72 0.72 0.72 0.84 0.82\n"
     ]
    },
    {
     "name": "stderr",
     "output_type": "stream",
     "text": [
      "/tmp/ipykernel_3373/643707083.py:75: RuntimeWarning: invalid value encountered in power\n",
      "  distances = np.array(np.sum(abs(train_data[:]-i)**r, axis=1)**(1/r))\n"
     ]
    },
    {
     "name": "stdout",
     "output_type": "stream",
     "text": [
      "k: 39 0.72 0.72 0.72 0.82 0.82\n"
     ]
    },
    {
     "name": "stderr",
     "output_type": "stream",
     "text": [
      "/tmp/ipykernel_3373/643707083.py:75: RuntimeWarning: invalid value encountered in power\n",
      "  distances = np.array(np.sum(abs(train_data[:]-i)**r, axis=1)**(1/r))\n"
     ]
    },
    {
     "name": "stdout",
     "output_type": "stream",
     "text": [
      "k: 40 0.72 0.72 0.72 0.8 0.8\n"
     ]
    },
    {
     "name": "stderr",
     "output_type": "stream",
     "text": [
      "/tmp/ipykernel_3373/643707083.py:75: RuntimeWarning: invalid value encountered in power\n",
      "  distances = np.array(np.sum(abs(train_data[:]-i)**r, axis=1)**(1/r))\n"
     ]
    },
    {
     "name": "stdout",
     "output_type": "stream",
     "text": [
      "k: 41 0.72 0.72 0.72 0.78 0.8\n"
     ]
    },
    {
     "name": "stderr",
     "output_type": "stream",
     "text": [
      "/tmp/ipykernel_3373/643707083.py:75: RuntimeWarning: invalid value encountered in power\n",
      "  distances = np.array(np.sum(abs(train_data[:]-i)**r, axis=1)**(1/r))\n"
     ]
    },
    {
     "name": "stdout",
     "output_type": "stream",
     "text": [
      "k: 42 0.72 0.72 0.72 0.8 0.8\n"
     ]
    },
    {
     "name": "stderr",
     "output_type": "stream",
     "text": [
      "/tmp/ipykernel_3373/643707083.py:75: RuntimeWarning: invalid value encountered in power\n",
      "  distances = np.array(np.sum(abs(train_data[:]-i)**r, axis=1)**(1/r))\n"
     ]
    },
    {
     "name": "stdout",
     "output_type": "stream",
     "text": [
      "k: 43 0.72 0.72 0.72 0.8 0.8\n"
     ]
    },
    {
     "name": "stderr",
     "output_type": "stream",
     "text": [
      "/tmp/ipykernel_3373/643707083.py:75: RuntimeWarning: invalid value encountered in power\n",
      "  distances = np.array(np.sum(abs(train_data[:]-i)**r, axis=1)**(1/r))\n"
     ]
    },
    {
     "name": "stdout",
     "output_type": "stream",
     "text": [
      "k: 44 0.72 0.72 0.72 0.8 0.8\n"
     ]
    },
    {
     "name": "stderr",
     "output_type": "stream",
     "text": [
      "/tmp/ipykernel_3373/643707083.py:75: RuntimeWarning: invalid value encountered in power\n",
      "  distances = np.array(np.sum(abs(train_data[:]-i)**r, axis=1)**(1/r))\n"
     ]
    },
    {
     "name": "stdout",
     "output_type": "stream",
     "text": [
      "k: 45 0.72 0.72 0.72 0.82 0.8\n"
     ]
    },
    {
     "name": "stderr",
     "output_type": "stream",
     "text": [
      "/tmp/ipykernel_3373/643707083.py:75: RuntimeWarning: invalid value encountered in power\n",
      "  distances = np.array(np.sum(abs(train_data[:]-i)**r, axis=1)**(1/r))\n"
     ]
    },
    {
     "name": "stdout",
     "output_type": "stream",
     "text": [
      "k: 46 0.72 0.72 0.72 0.82 0.8\n"
     ]
    },
    {
     "name": "stderr",
     "output_type": "stream",
     "text": [
      "/tmp/ipykernel_3373/643707083.py:75: RuntimeWarning: invalid value encountered in power\n",
      "  distances = np.array(np.sum(abs(train_data[:]-i)**r, axis=1)**(1/r))\n"
     ]
    },
    {
     "name": "stdout",
     "output_type": "stream",
     "text": [
      "k: 47 0.72 0.72 0.72 0.8 0.78\n"
     ]
    },
    {
     "name": "stderr",
     "output_type": "stream",
     "text": [
      "/tmp/ipykernel_3373/643707083.py:75: RuntimeWarning: invalid value encountered in power\n",
      "  distances = np.array(np.sum(abs(train_data[:]-i)**r, axis=1)**(1/r))\n"
     ]
    },
    {
     "name": "stdout",
     "output_type": "stream",
     "text": [
      "k: 48 0.72 0.72 0.72 0.82 0.78\n"
     ]
    },
    {
     "name": "stderr",
     "output_type": "stream",
     "text": [
      "/tmp/ipykernel_3373/643707083.py:75: RuntimeWarning: invalid value encountered in power\n",
      "  distances = np.array(np.sum(abs(train_data[:]-i)**r, axis=1)**(1/r))\n"
     ]
    },
    {
     "name": "stdout",
     "output_type": "stream",
     "text": [
      "k: 49 0.72 0.72 0.72 0.82 0.78\n"
     ]
    }
   ],
   "source": [
    "from sklearn.decomposition import PCA\n",
    "from sklearn.preprocessing import normalize\n",
    "from sklearn.metrics import DistanceMetric\n",
    "from scipy.spatial import distance\n",
    "from scipy import stats\n",
    "from sklearn.neighbors import KNeighborsClassifier\n",
    "import numpy as np\n",
    "import pandas as pd\n",
    "import matplotlib.pyplot as plt\n",
    "\n",
    "train_data = pd.read_csv('MNIST_training.csv')\n",
    "test_data = pd.read_csv('MNIST_test.csv')\n",
    "\n",
    "def PCAify(data, n):\n",
    "    y = data.iloc[:, 0].to_numpy()\n",
    "    x = data.drop('label', axis = 1).to_numpy()\n",
    "    #print(x)\n",
    "    #print(x)\n",
    "    pca = PCA(n_components = n)\n",
    "    pca.fit(x)\n",
    "    PCAX = pca.transform(x)\n",
    "    return y, x\n",
    "\n",
    "y_train, pca_train = PCAify(train_data, 2)\n",
    "y_test, pca_test = PCAify(test_data, 2)\n",
    "\n",
    "#table = np.append(pca_train, pca_test, axis=0)\n",
    "\n",
    "neighbors = KNeighborsClassifier(n_neighbors=5)\n",
    "neighbors.fit(pca_train, y_train)\n",
    "labels_sk = [neighbors.predict([i]) for i in pca_test]\n",
    "\n",
    "#print(labels)\n",
    "\n",
    "def labeler2(train_label, test_label, train_data, test_data, K):\n",
    "    table = np.append(train_data, test_data, axis = 0)\n",
    "    dist = DistanceMetric.get_metric('euclidean')\n",
    "    dist_table = np.array(dist.pairwise(table))\n",
    "    dist_table = np.delete(dist_table, range(len(train_data),len(train_data)+len(test_data)), axis = 1)\n",
    "    labels = []\n",
    "    for i in range(0,50):\n",
    "        label, count = stats.mode(train_label[np.argsort(dist_table[i+len(train_label)])[0:K]])\n",
    "        labels.append(label[0])\n",
    "    \n",
    "    return labels\n",
    "    accuracy = float(sum([i==j for i, j in zip(labels, test_label)])/len(labels))\n",
    "    #print(accuracy)\n",
    "\n",
    "def acc_table(K, y_train, pca_train, pca_test):\n",
    "    labels = [labeler(y_train, pca_train, pca_test[i], K) for i in range(len(pca_test))]\n",
    "    accuracy = float(sum([i==j for i, j in zip(labels, y_test)])/len(labels))\n",
    "    return accuracy\n",
    "    \n",
    "def labeler(train_label, train_data, test_data, K):\n",
    "    labels = []\n",
    "    for i in test_data:\n",
    "        distances = np.array(np.sum((train_data[:]-i)**2, axis = 1))\n",
    "        label, count = stats.mode(train_label[np.argsort(distances)[0:K]])\n",
    "        labels.append(label[0])\n",
    "    accuracy = sum([l==j for l, j in zip(labels, y_test)])/len(labels)\n",
    "    return accuracy\n",
    "    \n",
    "def labeler_cos(train_label, train_data, test_data, K):\n",
    "    labels = []\n",
    "    for i in test_data:\n",
    "        distances = np.array((np.dot(train_data[:],i))/(np.linalg.norm(i)*np.linalg.norm(train_data[:], axis=1)))\n",
    "        label, count = stats.mode(train_label[np.argsort(distances)[len(distances)-K:len(distances)]])\n",
    "        labels.append(label[0])\n",
    "    accuracy = float(sum([l==p for l, p in zip(labels, y_test)])/len(labels))\n",
    "    return accuracy\n",
    "\n",
    "def labeler_minkowski(train_label, train_data, test_data, K, r):\n",
    "    labels = []\n",
    "    for i in test_data:\n",
    "        distances = np.array(np.sum(abs(train_data[:]-i)**r, axis=1)**(1/r))\n",
    "        label, count = stats.mode(train_label[np.argsort(distances)[0:K]])\n",
    "        labels.append(label[0])\n",
    "    accuracy = float(sum([l==p for l, p in zip(labels, y_test)])/len(labels))\n",
    "    return accuracy\n",
    "\n",
    "for i in range(2, 50):\n",
    "    \n",
    "    neighbors = KNeighborsClassifier(n_neighbors=i)\n",
    "    neighbors.fit(pca_train, y_train)\n",
    "    \n",
    "    labels_sk = [neighbors.predict([i]) for i in pca_test]\n",
    "    labels_imp = labeler2(y_train, y_test, pca_train, pca_test, i)\n",
    "    \n",
    "    accuracy_imp = float(sum([i==j for i, j in zip(labels_imp, y_test)])/len(labels))\n",
    "    accuracy_sk = float(sum([i==j for i, j in zip(labels_sk, y_test)])/len(labels))\n",
    "    accuracy_cos = float()\n",
    "    \n",
    "    accuracy_imp1 = labeler(y_train, pca_train, pca_test, i)\n",
    "    accuracy_cos = labeler_cos(y_train, pca_train, pca_test, i)\n",
    "        \n",
    "    accuracy_mink = [labeler_minkowski(y_train, pca_train, pca_test, i, j) for j in range(2,15)]\n",
    "    print('k:', i, accuracy_imp, accuracy_sk, accuracy_imp1, accuracy_cos, max(accuracy_mink))\n",
    "#accuracy_sk = float(sum([i==j for i, j in zip(labels_sk, y_test)])/len(labels))\n",
    "#print(accuracy_imp, accuracy_sk)\n",
    "\n",
    "#accuracy_cos = labeler_cos(y_train, pca_train, pca_test, 4)"
   ]
  },
  {
   "cell_type": "markdown",
   "id": "49f6a83b",
   "metadata": {},
   "source": [
    "# Implementation"
   ]
  },
  {
   "cell_type": "code",
   "execution_count": 23,
   "id": "b22793b4",
   "metadata": {},
   "outputs": [
    {
     "name": "stdout",
     "output_type": "stream",
     "text": [
      "Best Euclidean at K = 9: 0.9\n",
      "Best Minkowski at K = 7, R = 5:  0.92\n",
      "Best Cosine Similarity at K = 9:  0.92\n"
     ]
    }
   ],
   "source": [
    "# Imports\n",
    "from scipy import stats\n",
    "import numpy as np\n",
    "import pandas as pd\n",
    "import matplotlib.pyplot as plt\n",
    "\n",
    "# Separates pandas dataframe into data and labels\n",
    "def data_read(data):\n",
    "    y = data.iloc[:, 0].to_numpy()\n",
    "    x = data.drop('label', axis = 1).to_numpy()\n",
    "    return y, x\n",
    "\n",
    "# Defines KNN algorithm using Euclidean distance\n",
    "def KNN_euclidean(train_label, test_label, train_data, test_data, K):\n",
    "    # labels list that'll get filled with the labels of each corresponding test_data\n",
    "    labels = []\n",
    "    \n",
    "    # For loop that fills in the labels \n",
    "    for i in test_data:\n",
    "        \n",
    "        # Euclidean calculation of the distance\n",
    "        distances = np.array(np.sum((train_data[:]-i)**2, axis = 1))\n",
    "        \n",
    "        # Finds the mode of K data points with the lowest distance and gets corresponding label\n",
    "        label, count = stats.mode(train_label[np.argsort(distances)[0:K]])\n",
    "        \n",
    "        # Appends label to the label list\n",
    "        labels.append(label[0])\n",
    "        \n",
    "    # Calculates the accuracy from the actual test labels and returns it\n",
    "    accuracy = sum([l==j for l, j in zip(labels, test_label)])/len(labels)\n",
    "    return accuracy\n",
    "\n",
    "def KNN_minkowski(train_label, test_label, train_data, test_data, K, r):\n",
    "    labels = []\n",
    "    for i in test_data:\n",
    "        distances = np.array(np.sum(abs(train_data[:]-i)**r, axis=1)**(1/r))\n",
    "        label, count = stats.mode(train_label[np.argsort(distances)[0:K]])\n",
    "        labels.append(label[0])\n",
    "    accuracy = float(sum([l==p for l, p in zip(labels, test_label)])/len(labels))\n",
    "    return accuracy\n",
    "\n",
    "def KNN_cos(train_label, test_label, train_data, test_data, K):\n",
    "    labels = []\n",
    "    for i in test_data:\n",
    "        distances = np.array((np.dot(train_data[:],i))/(np.linalg.norm(i)*np.linalg.norm(train_data[:], axis=1)))\n",
    "        label, count = stats.mode(train_label[np.argsort(distances)[len(distances)-K:len(distances)]])\n",
    "        labels.append(label[0])\n",
    "    accuracy = float(sum([l==p for l, p in zip(labels, test_label)])/len(labels))\n",
    "    return accuracy\n",
    "\n",
    "train_data = pd.read_csv('MNIST_training.csv')\n",
    "test_data = pd.read_csv('MNIST_test.csv')\n",
    "\n",
    "y_train, x_train = data_read(train_data)\n",
    "y_test, x_test = data_read(test_data)\n",
    "\n",
    "print('Best Euclidean at K = 9:', KNN_euclidean(y_train, y_test, x_train, x_test, 9))\n",
    "print('Best Minkowski at K = 7, R = 5: ', KNN_minkowski(y_train, y_test, x_train, x_test, 7, 5))\n",
    "print('Best Cosine Similarity at K = 9: ', KNN_cos(y_train, y_test, x_train, x_test, 9))"
   ]
  },
  {
   "cell_type": "markdown",
   "id": "58b8ea3a",
   "metadata": {},
   "source": [
    "# Final Implementation (Shortened)"
   ]
  },
  {
   "cell_type": "code",
   "execution_count": 24,
   "id": "548832c3",
   "metadata": {},
   "outputs": [
    {
     "name": "stdout",
     "output_type": "stream",
     "text": [
      "Best Euclidean at K = 9: 0.9\n",
      "Best Minkowski at K = 7, R = 5:  0.92\n",
      "Best Cosine Similarity at K = 9:  0.92\n"
     ]
    }
   ],
   "source": [
    "# Imports\n",
    "from scipy import stats\n",
    "import numpy as np\n",
    "import pandas as pd\n",
    "import matplotlib.pyplot as plt\n",
    "\n",
    "# Separates pandas dataframe into data and labels\n",
    "def data_read(data):\n",
    "    y = data.iloc[:, 0].to_numpy()\n",
    "    x = data.drop('label', axis = 1).to_numpy()\n",
    "    return y, x\n",
    "\n",
    "# Defines the distance calculations using different methods\n",
    "dist_euclidean = lambda x, y, r: np.array(np.sum((x-y)**2, axis = 1))\n",
    "dist_minkowski = lambda x, y, r: np.array(np.sum(abs(x-y)**r, axis=1)**(1/r))\n",
    "dist_cosine = lambda x, y, r: np.array((np.dot(x,y))/(np.linalg.norm(y)*np.linalg.norm(x[:], axis=1)))*-1\n",
    "\n",
    "# Defines KNN algorithm using Euclidean distance\n",
    "def KNN(train_label, test_label, train_data, test_data, dist, K, r=5):\n",
    "    \n",
    "    # labels list that'll get filled with the labels of each corresponding test_data\n",
    "    labels = []\n",
    "    \n",
    "    # For loop that fills in the labels \n",
    "    for i in test_data:\n",
    "        \n",
    "        # Calculates distance using passed in distance function\n",
    "        distances = dist(train_data[:], i, r)\n",
    "        \n",
    "        # Finds the mode of K data points with the lowest distance and gets corresponding label\n",
    "        label, count = stats.mode(train_label[np.argsort(distances)[0:K]])\n",
    "        \n",
    "        # Appends label to the label list\n",
    "        labels.append(label[0])\n",
    "        \n",
    "    # Calculates the accuracy from the actual test labels and returns it\n",
    "    accuracy = sum([l==j for l, j in zip(labels, test_label)])/len(labels)\n",
    "    return accuracy\n",
    "\n",
    "# Reads in files using pandas for test and train data\n",
    "train_data = pd.read_csv('MNIST_training.csv')\n",
    "test_data = pd.read_csv('MNIST_test.csv')\n",
    "\n",
    "# Calls data read and sets the labels and data sets for train and testing data sets\n",
    "y_train, x_train = data_read(train_data)\n",
    "y_test, x_test = data_read(test_data)\n",
    "\n",
    "# Prints and calls the different KNN algorithms\n",
    "print('Best Euclidean at K = 9:', KNN(y_train, y_test, x_train, x_test, dist_euclidean, 9))\n",
    "print('Best Minkowski at K = 7, R = 5: ', KNN(y_train, y_test, x_train, x_test, dist_minkowski, 7, 5))\n",
    "print('Best Cosine Similarity at K = 9: ', KNN(y_train, y_test, x_train, x_test, dist_cosine, 9))"
   ]
  }
 ],
 "metadata": {
  "kernelspec": {
   "display_name": "Python 3 (ipykernel)",
   "language": "python",
   "name": "python3"
  },
  "language_info": {
   "codemirror_mode": {
    "name": "ipython",
    "version": 3
   },
   "file_extension": ".py",
   "mimetype": "text/x-python",
   "name": "python",
   "nbconvert_exporter": "python",
   "pygments_lexer": "ipython3",
   "version": "3.9.5"
  }
 },
 "nbformat": 4,
 "nbformat_minor": 5
}
