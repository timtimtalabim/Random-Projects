{
 "cells": [
  {
   "cell_type": "code",
   "execution_count": 2,
   "id": "01e89332",
   "metadata": {
    "scrolled": false
   },
   "outputs": [
    {
     "name": "stdout",
     "output_type": "stream",
     "text": [
      "22\n",
      "94117.64705882352\n"
     ]
    },
    {
     "data": {
      "image/png": "[encoded data removed]",
      "text/plain": [
       "<Figure size 432x288 with 1 Axes>"
      ]
     },
     "metadata": {
      "needs_background": "light"
     },
     "output_type": "display_data"
    }
   ],
   "source": [
    "from scipy.optimize import curve_fit\n",
    "import numpy as np\n",
    "import matplotlib.pyplot as plt\n",
    "\n",
    "#frequency is in hz\n",
    "frequency = [34120, 27390, 20010, 16620, 8643, 4952, 2177, 1646, 1137, 514.5, 190, 43.20, 29.25, 10, 2.7,\n",
    "             106800, 158400, 248700, 349600, 424600, 550900, 662200]#, 806400]#, 1055000]#, 1509000, 2530000, 3007000]\n",
    "\n",
    "#vout & vin are in voltage\n",
    "vout = [3.64, 4.36, 6, 7.28, 14.2, 25.2, 6.56, 8.68, 12.6, 28.0, 14.0, 14.8, 21.4, 8.8, 24.0, 11.2, \n",
    "        6.2, 3.8, 2.4, 7.9, 8.6, 1.9, 2.1]#, 2.2, 3.0, 3.4, 5.6, 6.7]\n",
    "\n",
    "\n",
    "vin = [0.160]\n",
    "\n",
    "vin = [vin[0] for i in range (0,6)]\n",
    "\n",
    "for i in range(0,4):\n",
    "    vin.append(0.01587)\n",
    "\n",
    "vin.append(0.00298)\n",
    "\n",
    "for i in range(0,2):\n",
    "    vin.append(0.000722)\n",
    "    \n",
    "vin.append(0.000112)\n",
    "#print(vin)\n",
    "\n",
    "vin.append(0.000255)\n",
    "\n",
    "for i in range(0,4):\n",
    "    vin.append(1.137)\n",
    "    \n",
    "vin.append(12.4)\n",
    "vin.append(39.2)\n",
    "\n",
    "vin.append(39.2)\n",
    "#vin.append(39.6)\n",
    "#vin.append(39.8)\n",
    "\n",
    "#vin.append(40.2)\n",
    "#vin.append(41.8)\n",
    "#vin.append(44.8)\n",
    "#vin.append(45.4)\n",
    "\n",
    "#time difference is in microseconds\n",
    "time_difference = [36.4, 45.6, 62, 74, 142, 250, 564, 744, 1085, 2380, 6460, 29200, 41200, 122500, 454000,\n",
    "                   11.75, 7.7, 4.9, 3.8, 3.2, 2.59, 2.54]#, 1.690, 1.3]#, 0.895, 0.554, 0.472]\n",
    "time_difference = [i*10**-6 for i in time_difference]\n",
    "\n",
    "#phase_shift = [360*frequency[i]*time_difference[i] for i in (0,12)\n",
    "    \n",
    "print(len(time_difference))\n",
    "phase_shift = []\n",
    "\n",
    "for i in range(0,22):\n",
    "    num = 360*frequency[i]*time_difference[i]\n",
    "    phase_shift.append(num)\n",
    "    \n",
    "#print(phase_shift)\n",
    "\n",
    "#phase_shift = [np.deg2rad(i) for i in phase_shift]\n",
    "#print(phase_shift)\n",
    "\n",
    "#r_1 1.242 komega, r_2 2.870 komega, r_3 11.88 komega, r_4 30.40 komega, r_5 329.3 komega, r_6 1.012 Momega\n",
    "#r_7 = 19.3 omega, r_8 7.1 omega, r_9 3.1 omega\n",
    "\n",
    "#ratio cal between Vout and Vin\n",
    "#A lambda x,y:x/y\n",
    "\n",
    "gain = [vout[i]/vin[i] for i in range(0,22)]\n",
    "#frequency_1 = [frequency[i] for i in range(0,15)]\n",
    "\n",
    "print(max(gain))\n",
    "\n",
    "a_max = max(gain)\n",
    "#plt.plot(frequency, gain, '.')\n",
    "\n",
    "#plt.yscale('log')\n",
    "#plt.xscale('log')\n",
    "#A_ol = Amax/\\sqrt(1+(v/v_0)**2)\\sqrt(1+(v/v_1)**2)\n",
    "#plt.ylim(0,800)\n",
    "\n",
    "\n",
    "new_list = zip(frequency, gain, time_difference)\n",
    "\n",
    "data = list(new_list)\n",
    "\n",
    "data.sort(key=lambda y: y[1], reverse=True)\n",
    "\n",
    "x, y, z = zip(*data)\n",
    "\n",
    "#print(\"frequency =\", x)\n",
    "#print(\"gain =\", y)\n",
    "#print(\"time_difference =\", z)\n",
    "\n",
    "data = [x, y, z]\n",
    "\n",
    "plt.plot(data[0], data[1], '.')\n",
    "\n",
    "plt.yscale('log')\n",
    "plt.xscale('log')"
   ]
  },
  {
   "cell_type": "code",
   "execution_count": 3,
   "id": "09a60e7a",
   "metadata": {
    "scrolled": true
   },
   "outputs": [
    {
     "name": "stdout",
     "output_type": "stream",
     "text": [
      "v_0: 10.54980723382252, a_m: 99635.34804863429\n"
     ]
    }
   ],
   "source": [
    "#a_m = 99635.3478444983\n",
    "#v_0 = 10.54980731844167\n",
    "A_ol = lambda v, v_0, a_m: a_m/((np.sqrt(1+(v/v_0)**2)))#*np.sqrt(1+(v/v_1)**2))\n",
    "\n",
    "start = 0\n",
    "x = [data[0][i] for i in range(start, 22)]\n",
    "y = [data[1][i] for i in range(start, 22)]\n",
    "params, extras = curve_fit(A_ol, x, y, p0 = [10, 10000], maxfev=6000)#, bounds = [(-np.inf, 10**5),(np.inf, np.inf)])#, p0 = [3.7*10**5])#, bounds = [(10**5),(5*10**5)])\n",
    "\n",
    "print(f\"v_0: {params[0]}, a_m: {params[1]}\")#, a_m: {params#[2]}\")\n",
    "    #print(f\"v_1:\", params[0])\n"
   ]
  },
  {
   "cell_type": "code",
   "execution_count": 148,
   "id": "03dfa7e7",
   "metadata": {},
   "outputs": [
    {
     "name": "stdout",
     "output_type": "stream",
     "text": [
      "v_0: 302374.5626106303, v_1: 9.144786728725247\n"
     ]
    },
    {
     "data": {
      "image/png": "[encoded data removed]",
      "text/plain": [
       "<Figure size 432x288 with 1 Axes>"
      ]
     },
     "metadata": {
      "needs_background": "light"
     },
     "output_type": "display_data"
    }
   ],
   "source": [
    "from scipy.optimize import curve_fit\n",
    "\n",
    "#phase_shift = [i-360 for i in phase_shift]\n",
    "\n",
    "f = lambda v, v_0: np.arctan(v/v_0)\n",
    "'''\n",
    "params, extras = curve_fit(f, frequency, phase_shift)#, bounds= [(3*10**5), (4*10**5)])\n",
    "print(\"v_0:\", params[0])\n",
    "\n",
    "A_ol = lambda v, v_0, a_m: a_m/(np.sqrt(1+(v/v_0)**2)#*np.sqrt(1+(v/v_1)**2))\n",
    "\n",
    "params, extras = curve_fit(A_ol, frequency, gain, p0 = [10, 3.7*10**5, 9.9*10**4],#, bounds = [(10**5, 9*10**4), (5*10**5, 10**5)]) \n",
    "                           bounds=[(0, 3*10**5, -np.inf), (np.inf, 5*10**5, np.inf)])#, 10**5])#, bounds = [[10**2, 10**5], [10**4, 10**6]])\n",
    "\n",
    "print(f\"v_0: {params[0]}, v_1: {params[1]}, a_m: {params[2]}\")\n",
    "'''                            \n",
    "#print(f\"v_0: {params[0]}, a_m: {params[1]}\")\n",
    "\n",
    "a_m = 99635.3478444983\n",
    "start = 13\n",
    "frequency_1 = [frequency[i] for i in range(start, 20)]\n",
    "gain_1 = [gain[i] for i in range(start,20)]\n",
    "A_1ol = lambda v, v_0, v_1: a_m/((np.sqrt(1+(v/v_0)**2))*np.sqrt(1+(v/v_1)**2))\n",
    "\n",
    "params, extras = curve_fit(A_1ol, frequency_1, gain_1)#, p0 = [3.7*10**5])#, bounds = [(10**5),(5*10**5)])\n",
    "\n",
    "#print(f\"v_0: {params[0]}\")\n",
    "print(f\"v_0: {params[0]}, v_1: {params[1]}\")#, a_m: {params[2]}\")\n",
    "\n",
    "plt.plot(frequency_1, gain_1, '.')\n",
    "\n",
    "plt.xscale('log')\n",
    "plt.yscale('log')\n",
    "\n",
    "#a_m: 99635.3478444983\n",
    "#v_0: 10.54980731844167\n",
    "#v_1: 302374.5626106303\n"
   ]
  },
  {
   "cell_type": "code",
   "execution_count": 50,
   "id": "783c1f7b",
   "metadata": {
    "scrolled": false
   },
   "outputs": [
    {
     "name": "stdout",
     "output_type": "stream",
     "text": [
      "v_0: 9.752205533749958e-07\n",
      "v_0: 3.590293666996364e-06\n",
      "v_0: 2.3351032713411536e-05\n",
      "v_0: 6.721358734952246e-05\n",
      "v_0: 1.0573184267910086e-05\n",
      "v_0: 0.00016641629656569953\n",
      "v_0: 0.00013030216062177806\n",
      "v_0: 3.7810998238251193e-05\n",
      "v_0: 0.0009184135641179107\n",
      "v_0: 0.002852762962146243\n",
      "v_0: 0.006041131010197329\n",
      "v_0: 0.005909665694317505\n",
      "v_0: 0.011052413217850077\n",
      "v_0: 0.012755986584732749\n",
      "v_0: 0.01216366495597316\n",
      "v_0: 0.03152259234934351\n",
      "v_0: 0.0734022973678269\n",
      "v_0: 0.007713548015028342\n",
      "v_0: 0.007917800142611524\n",
      "v_0: 0.006117484819198334\n"
     ]
    },
    {
     "data": {
      "text/plain": [
       "(420.0, 630.0)"
      ]
     },
     "execution_count": 50,
     "metadata": {},
     "output_type": "execute_result"
    },
    {
     "data": {
      "image/png": "[encoded data removed]",
      "text/plain": [
       "<Figure size 432x288 with 1 Axes>"
      ]
     },
     "metadata": {
      "needs_background": "light"
     },
     "output_type": "display_data"
    }
   ],
   "source": [
    "from scipy.optimize import curve_fit\n",
    "\n",
    "phase_shift = []\n",
    "\n",
    "for i in range(0,22):\n",
    "    num = 360*data[0][i]*data[2][i]\n",
    "    phase_shift.append(num)\n",
    "\n",
    "f = lambda v, v_0: np.rad2deg(np.arctan(v/v_0))\n",
    "\n",
    "for j in range(0,20):\n",
    "    start = j\n",
    "    x = [data[0][i] for i in range(start, 22)]\n",
    "    y = [phase_shift[i] for i in range(start, 22)]\n",
    "    \n",
    "    params, extras = curve_fit(f, x, y, p0=[3.7*10**5])#, bounds= [(3*10**5), (4*10**5)])\n",
    "    print(\"v_0:\", params[0])\n",
    "\n",
    "plt.plot(data[0], phase_shift, '.')\n",
    "plt.plot([378000, 378000], [400, 650], '-')\n",
    "plt.xscale('log')\n",
    "plt.ylim(420, 630)\n",
    "#phi = tan-1(v/v_0)"
   ]
  },
  {
   "cell_type": "code",
   "execution_count": 7,
   "id": "c7bb8a50",
   "metadata": {},
   "outputs": [
    {
     "name": "stdout",
     "output_type": "stream",
     "text": [
      "v_0: 10529.893328882661, v_1: 454251.4931889588\n",
      "v_0: 10529.892755665353, v_1: 454254.10483147664\n",
      "v_0: 10529.892479542426, v_1: 454254.59713325545\n",
      "v_0: 10529.89477071402, v_1: 454253.9318803467\n",
      "v_0: 10529.914531955563, v_1: 454249.26904934226\n",
      "v_0: 10530.162496040053, v_1: 454189.9914601251\n",
      "v_0: 10532.079085404037, v_1: 453726.07010781055\n",
      "v_0: 10537.058743775598, v_1: 452525.0244606199\n",
      "v_0: 10609.8236575896, v_1: 435385.95776931534\n",
      "v_0: 10930.104607777908, v_1: 367243.6602891563\n",
      "v_0: 12426.595527872523, v_1: 212079.93438767275\n",
      "v_0: 7310.134127828124, v_1: 1358654.3073162746\n",
      "v_0: 9814.300434583052, v_1: 611787.0575161915\n",
      "v_0: 6486.909297596857, v_1: 1612095.8941383758\n",
      "v_0: 8528.875120131484, v_1: 919980.7867311016\n"
     ]
    },
    {
     "data": {
      "image/png": "[encoded data removed]",
      "text/plain": [
       "<Figure size 432x288 with 1 Axes>"
      ]
     },
     "metadata": {
      "needs_background": "light"
     },
     "output_type": "display_data"
    }
   ],
   "source": [
    "# Closed Loop\n",
    "\n",
    "r_1 = 326000\n",
    "r_2 = 102\n",
    "#r_g = 102\n",
    "#r_b = 102\n",
    "#r_a = 10_000\n",
    "\n",
    "v_read = [18.4, 18.4, 18.4, 18.4, 18.8, 18.8, 18.8, 18.8, 18.8, 18.8, 19.2]# 18.0,\n",
    "\n",
    "vin = [i*(r_2/(r_1+r_2)) for i in v_read]\n",
    "\n",
    "vout = [0.72, 0.72, 0.62, 0.62, 0.62, 0.62, 0.62, 0.62, 0.58, 0.28, 0.18, 0.6, 0.440, 0.540, 0.440, 1.12, 0.740,\n",
    "        0.980, 0.840]\n",
    "\n",
    "frequency_closed = [0.55, 2, 11.9, 35.18, 95, 265, 430, 2415, 4305, 21_890, 43360, 240000, 400000, 640000, 870000,\n",
    "            1156000, 1746000, 2314000, 2564000]\n",
    "\n",
    "r_1_1 = 10_000\n",
    "\n",
    "r_1_2 = 3_500\n",
    "\n",
    "r_1_3 = 600\n",
    "\n",
    "r_1_4 = 240\n",
    "\n",
    "v_read_1 = [18.8, 18.8]\n",
    "\n",
    "v_read_2 = [18.8, 18.8]\n",
    "\n",
    "v_read_3 = [18.4, 18.4]\n",
    "\n",
    "v_read_4 = [17.2, 16.8]\n",
    "\n",
    "resistors = [r_1_1, r_1_2, r_1_3, r_1_4]\n",
    "\n",
    "v_reads = [v_read_1, v_read_2, v_read_3, v_read_4]\n",
    "\n",
    "for i in range(0, 4):\n",
    "    for j in range(0,2):\n",
    "        num = v_reads[i][j]*(r_2/(resistors[i]+r_2))\n",
    "        vin.append(num)\n",
    "\n",
    "\n",
    "#time_difference is in microseconds:\n",
    "time_difference = [1870000, 515000, 85000, 28800, 10600, 3800, 2390, 426, 250, 55.2, 27.6, 4.32, 3.2, \n",
    "                  1.94, 1.52, 1.18, 0.820, 0.636, 0.6]\n",
    "\n",
    "gain_closed = [vout[i]/vin[i] for i in range(0, len(vout))]\n",
    "\n",
    "a_max = 110.93560632026212\n",
    "A_ol = lambda v, v_0, v_1: a_max/((np.sqrt(1+(v/v_0)**2)*np.sqrt(1+(v/v_1)**2)))\n",
    "\n",
    "for j in range(0,15):\n",
    "    start = j\n",
    "    frequency_1 = [frequency[i] for i in range(start, 19)]\n",
    "    gain_1 = [gain[i] for i in range(start, 19)]\n",
    "    params, extras = curve_fit(A_ol, frequency_1, gain_1, p0 = [10**4, 10**5])\n",
    "    print(f\"v_0: {params[0]}, v_1: {params[1]}\")\n",
    "\n",
    "plt.plot(frequency_closed, gain_closed, '.')\n",
    "plt.xscale('log')\n",
    "plt.yscale('log')"
   ]
  },
  {
   "cell_type": "code",
   "execution_count": 45,
   "id": "6a6ae3ea",
   "metadata": {},
   "outputs": [
    {
     "data": {
      "text/plain": [
       "(0.1, 200000)"
      ]
     },
     "execution_count": 45,
     "metadata": {},
     "output_type": "execute_result"
    },
    {
     "data": {
      "image/png": "[encoded data removed]",
      "text/plain": [
       "<Figure size 1000x600 with 1 Axes>"
      ]
     },
     "metadata": {
      "needs_background": "light"
     },
     "output_type": "display_data"
    }
   ],
   "source": [
    "a_max_closed = [[], []]\n",
    "a_max_closed[0] = np.linspace(0, 3*10**6)\n",
    "a_max_closed[1] = [110.935 for i in range(0,50)]\n",
    "\n",
    "a_max_open = [[], []]\n",
    "a_max_open[0] = np.linspace(0, 3*10**6)\n",
    "a_max_open[1] = [99635.3478444983 for i in range(0,50)]\n",
    "\n",
    "v_0_open = [[], []]\n",
    "v_0_open[0] = [10.54980731844167 for i in range(0,50)]\n",
    "v_0_open[1] = np.linspace(5*10**4, 3*10**5)\n",
    "\n",
    "v_1_open = [[], []]\n",
    "v_1_open[0] = [340240 for i in range(0,50)]\n",
    "v_1_open[1] = np.linspace(1, 5)\n",
    "\n",
    "v_0_closed = [[], []]\n",
    "v_0_closed[0] = [10930.104607777908 for i in range(0,50)]\n",
    "v_0_closed[1] = np.linspace(50, 150)\n",
    "\n",
    "plt.figure(figsize=(5,3), dpi = 200)\n",
    "\n",
    "plt.plot(data[0], data[1], '.')\n",
    "plt.plot(frequency_closed, gain_closed, '.')\n",
    "plt.plot(a_max_open[0], a_max_open[1], '--', label = \"a_max_o: 99,635\")\n",
    "plt.plot(a_max_closed[0], a_max_closed[1], '--', label = \"a_max_c: 110.93\")\n",
    "plt.plot(v_0_open[0], v_0_open[1], '-', label = \"v_0_o: 10.54 Hz\")\n",
    "plt.plot(v_0_closed[0], v_0_closed[1], '-', label = \"v_0_c: 10.93 kHz\")\n",
    "plt.plot(v_1_open[0], v_1_open[1], '-', label = \"v_1: 340 kHz\")\n",
    "\n",
    "plt.legend(fontsize='small')\n",
    "plt.xscale('log')\n",
    "plt.yscale('log')\n",
    "plt.xlim(0.1, 3*10**6)\n",
    "plt.ylim(0.1, 2*10**5)"
   ]
  },
  {
   "cell_type": "code",
   "execution_count": 51,
   "id": "7506d511",
   "metadata": {},
   "outputs": [
    {
     "name": "stdout",
     "output_type": "stream",
     "text": [
      "slope: -92.04051999793478\n"
     ]
    },
    {
     "data": {
      "image/png": "[encoded data removed]",
      "text/plain": [
       "<Figure size 432x288 with 1 Axes>"
      ]
     },
     "metadata": {
      "needs_background": "light"
     },
     "output_type": "display_data"
    }
   ],
   "source": [
    "r_1 = 18_000\n",
    "r_2 = 102\n",
    "#r_g = 102\n",
    "#r_b = 102\n",
    "#r_a = 10_000\n",
    "\n",
    "vin_read = [-34.67, -29.21, -27.22, -26.91, -25.11, -23.92, -21.51, -18.22, -17.08, -13.09, -9.78, -5.92,\n",
    "            5.92, 7.45, 8.67, 12.9, 16.24, 18.99, 24.28, 27.58, 29.58, 35.95]\n",
    "\n",
    "vout = [14.21, 14.21, 14.08, 13.92, 12.99, 12.37, 11.12, 9.42, 8.83, 6.76, 5.041, 3.033, \n",
    "       -3.103, -3.897, -4.528, -6.72, -8.45, -9.88, -12.63, -14.03, -14.07, -14.07]\n",
    "\n",
    "vin = [i*(r_2/(r_1+r_2)) for i in vin_read]\n",
    "\n",
    "plt.plot(vin, vout)\n",
    "plt.plot(vin, vout, '.')\n",
    "\n",
    "vin_calc = [vin[i] for i in range(4, len(vin)-3)]\n",
    "vout_calc = [vout[i] for i in range(4, len(vout)-3)]\n",
    "m, b = np.polyfit(vin_calc, vout_calc, 1)\n",
    "\n",
    "print('slope:', m)"
   ]
  },
  {
   "cell_type": "code",
   "execution_count": null,
   "id": "b79ca6a1",
   "metadata": {},
   "outputs": [],
   "source": []
  }
 ],
 "metadata": {
  "kernelspec": {
   "display_name": "Python 3 (ipykernel)",
   "language": "python",
   "name": "python3"
  },
  "language_info": {
   "codemirror_mode": {
    "name": "ipython",
    "version": 3
   },
   "file_extension": ".py",
   "mimetype": "text/x-python",
   "name": "python",
   "nbconvert_exporter": "python",
   "pygments_lexer": "ipython3",
   "version": "3.9.5"
  }
 },
 "nbformat": 4,
 "nbformat_minor": 5
}
