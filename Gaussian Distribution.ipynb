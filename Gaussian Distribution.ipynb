{
 "cells": [
  {
   "cell_type": "markdown",
   "id": "be23c882",
   "metadata": {},
   "source": [
    "# Imports and Symbols being used"
   ]
  },
  {
   "cell_type": "code",
   "execution_count": 1,
   "id": "53b95662",
   "metadata": {},
   "outputs": [],
   "source": [
    "from sympy import Symbol, integrate, exp, oo, sqrt\n",
    "import matplotlib.pyplot as plt\n",
    "import numpy as np"
   ]
  },
  {
   "cell_type": "code",
   "execution_count": 2,
   "id": "e68bedec",
   "metadata": {},
   "outputs": [],
   "source": [
    "x = Symbol('x')\n",
    "a = Symbol('a', real=True, positive=True)\n",
    "lamb = Symbol('lambda', real=True, positive=True)\n",
    "pi = Symbol('pi')"
   ]
  },
  {
   "cell_type": "markdown",
   "id": "ef3b41ad",
   "metadata": {},
   "source": [
    "# Solving for A\n",
    "\n",
    "### Normalize Function\n",
    "$$\\int_{-\\infty}^{\\infty} \\rho(x)\\, dx = \\int_{-\\infty}^{\\infty} Ae^{-\\lambda(x-a)^2}\\,dx = 1$$\n",
    "\n",
    "Pull out A from integral\n",
    "$$ A\\int_{-\\infty}^{\\infty} e^{-\\lambda(x-a)^2}\\,dx = 1$$\n",
    "\n",
    "Solve for integral with code"
   ]
  },
  {
   "cell_type": "code",
   "execution_count": 3,
   "id": "6a094bb4",
   "metadata": {},
   "outputs": [
    {
     "data": {
      "text/latex": [
       "$\\displaystyle \\frac{\\sqrt{\\pi}}{\\sqrt{\\lambda}}$"
      ],
      "text/plain": [
       "sqrt(pi)/sqrt(lambda)"
      ]
     },
     "execution_count": 3,
     "metadata": {},
     "output_type": "execute_result"
    }
   ],
   "source": [
    "f = exp(-1*lamb*(x-a)**2)\n",
    "integrate(f, (x, -oo, oo))"
   ]
  },
  {
   "cell_type": "markdown",
   "id": "2bd65265",
   "metadata": {},
   "source": [
    "Solve for A\n",
    "$$ A(\\frac{\\sqrt{\\pi}}{\\sqrt{\\lambda}})=1 $$\n",
    "$$ A = \\frac{\\sqrt{\\lambda}}{\\sqrt{\\pi}} $$"
   ]
  },
  {
   "cell_type": "markdown",
   "id": "a2a9d8c9",
   "metadata": {},
   "source": [
    "# Solving for $<x>$\n",
    "\n",
    "$$ <x>=\\frac{\\int_{-\\infty}^{\\infty} x\\rho(x)\\, dx}{\\int_{-\\infty}^{\\infty} \\rho(x)\\, dx} $$\n",
    "\n",
    "Substitute $\\rho(x)$\n",
    "\n",
    "$$ <x> = \\frac{\\int_{-\\infty}^{\\infty} x \\sqrt{\\frac{\\lambda}{\\pi}} e^{-\\lambda(x-a)^2}\\,dx }{1} $$\n",
    "\n",
    "Solve for integral with code"
   ]
  },
  {
   "cell_type": "code",
   "execution_count": 4,
   "id": "1aeaa916",
   "metadata": {},
   "outputs": [
    {
     "data": {
      "text/latex": [
       "$\\displaystyle \\sqrt{\\pi} a \\sqrt{\\frac{1}{\\pi}}$"
      ],
      "text/plain": [
       "sqrt(pi)*a*sqrt(1/pi)"
      ]
     },
     "execution_count": 4,
     "metadata": {},
     "output_type": "execute_result"
    }
   ],
   "source": [
    "f = x*sqrt(lamb/pi)*exp(-lamb*(x-a)**2)\n",
    "integrate(f, (x, -oo, oo))"
   ]
  },
  {
   "cell_type": "markdown",
   "id": "f46ed9e8",
   "metadata": {},
   "source": [
    "Simplify and Solve for $<x>$\n",
    "$$<x> = a $$"
   ]
  },
  {
   "cell_type": "markdown",
   "id": "1587ee00",
   "metadata": {},
   "source": [
    "# Solving for $<x^2>$\n",
    "$$ <x>=\\frac{\\int_{-\\infty}^{\\infty} x^22\\rho(x)\\, dx}{\\int_{-\\infty}^{\\infty} \\rho(x)\\, dx} $$\n",
    "\n",
    "Substitute $\\rho(x)$\n",
    "\n",
    "$$ <x> = \\frac{\\int_{-\\infty}^{\\infty} x^2 \\sqrt{\\frac{\\lambda}{\\pi}} e^{-\\lambda(x-a)^2}\\,dx }{1} $$\n",
    "\n",
    "Solve for integral with code"
   ]
  },
  {
   "cell_type": "code",
   "execution_count": 5,
   "id": "2abc4d23",
   "metadata": {},
   "outputs": [
    {
     "data": {
      "text/latex": [
       "$\\displaystyle \\sqrt{\\pi} a^{2} \\sqrt{\\frac{1}{\\pi}} + \\frac{\\sqrt{\\pi} \\sqrt{\\frac{1}{\\pi}}}{2 \\lambda}$"
      ],
      "text/plain": [
       "sqrt(pi)*a**2*sqrt(1/pi) + sqrt(pi)*sqrt(1/pi)/(2*lambda)"
      ]
     },
     "execution_count": 5,
     "metadata": {},
     "output_type": "execute_result"
    }
   ],
   "source": [
    "f = x**2*sqrt(lamb/pi)*exp(-lamb*(x-a)**2)\n",
    "integrate(f, (x, -oo, oo))"
   ]
  },
  {
   "cell_type": "markdown",
   "id": "e715969c",
   "metadata": {},
   "source": [
    "Simplify and Solve for $<x^2>$\n",
    "$$a^2+\\frac{1}{2\\lambda}$$\n",
    "\n",
    "$$<x^2> = a^2+\\frac{1}{2\\lambda}$$"
   ]
  },
  {
   "cell_type": "markdown",
   "id": "c0f4c84d",
   "metadata": {},
   "source": [
    "# Calculating Standard Deviation\n",
    "\n",
    "$$\\sigma = \\sqrt{<x^2> - <x>^2}$$\n",
    "\n",
    "Substitute\n",
    "\n",
    "$$\\sigma = \\sqrt{a^2 + \\frac{1}{2\\lambda} - a^2}$$\n",
    "\n",
    "$$\\sigma = \\sqrt{\\frac{1}{2\\lambda}}$$"
   ]
  },
  {
   "cell_type": "markdown",
   "id": "3b7bf39c",
   "metadata": {},
   "source": [
    "# Graphing $\\rho(x)$"
   ]
  },
  {
   "cell_type": "code",
   "execution_count": 6,
   "id": "cea0529a",
   "metadata": {},
   "outputs": [
    {
     "data": {
      "text/plain": [
       "<matplotlib.legend.Legend at 0x27ee503b090>"
      ]
     },
     "execution_count": 6,
     "metadata": {},
     "output_type": "execute_result"
    },
    {
     "data": {
      "image/png": "[encoded data removed]",
      "text/plain": [
       "<Figure size 640x480 with 1 Axes>"
      ]
     },
     "metadata": {},
     "output_type": "display_data"
    }
   ],
   "source": [
    "lamb_graphing = 1\n",
    "a_graphing = 0\n",
    "\n",
    "f = lambda x: np.sqrt(lamb_graphing/np.pi)*np.exp(-lamb_graphing*(x-a_graphing)**2)\n",
    "\n",
    "x_s = np.linspace(-5, 5, 500)\n",
    "\n",
    "plt.plot(x_s, f(x_s), label = f\"$\\lambda = 1, a = 0$\")\n",
    "plt.title('Gaussian Distribution Graph')\n",
    "plt.xlabel('X')\n",
    "plt.ylabel('Y')\n",
    "plt.legend()"
   ]
  }
 ],
 "metadata": {
  "kernelspec": {
   "display_name": "Python 3 (ipykernel)",
   "language": "python",
   "name": "python3"
  },
  "language_info": {
   "codemirror_mode": {
    "name": "ipython",
    "version": 3
   },
   "file_extension": ".py",
   "mimetype": "text/x-python",
   "name": "python",
   "nbconvert_exporter": "python",
   "pygments_lexer": "ipython3",
   "version": "3.11.4"
  }
 },
 "nbformat": 4,
 "nbformat_minor": 5
}
